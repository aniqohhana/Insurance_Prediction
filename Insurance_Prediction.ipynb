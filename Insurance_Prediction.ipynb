{
  "nbformat": 4,
  "nbformat_minor": 0,
  "metadata": {
    "colab": {
      "provenance": [],
      "mount_file_id": "1SIt0QazL7oPWm_yZdo2AvJcEWt-KJUbn",
      "authorship_tag": "ABX9TyNbjTnE0tFyoM6fDG9QzMs0",
      "include_colab_link": true
    },
    "kernelspec": {
      "name": "python3",
      "display_name": "Python 3"
    },
    "language_info": {
      "name": "python"
    }
  },
  "cells": [
    {
      "cell_type": "markdown",
      "metadata": {
        "id": "view-in-github",
        "colab_type": "text"
      },
      "source": [
        "<a href=\"https://colab.research.google.com/github/aniqohhana/Insurance_Prediction/blob/main/Insurance_Prediction.ipynb\" target=\"_parent\"><img src=\"https://colab.research.google.com/assets/colab-badge.svg\" alt=\"Open In Colab\"/></a>"
      ]
    },
    {
      "cell_type": "code",
      "execution_count": 1,
      "metadata": {
        "id": "mz7aZaYe7X-Q"
      },
      "outputs": [],
      "source": [
        "# import required libraries\n",
        "import numpy as np\n",
        "import pandas as pd\n",
        "import matplotlib.pyplot as plt\n",
        "import seaborn as sns\n",
        "from sklearn.linear_model import LinearRegression\n",
        "from sklearn.model_selection import train_test_split\n",
        "from sklearn.preprocessing import StandardScaler, PolynomialFeatures\n",
        "from sklearn.metrics import mean_squared_error"
      ]
    },
    {
      "cell_type": "code",
      "source": [
        "# load csv into a dataframe\n",
        "df = pd.read_csv('/content/drive/MyDrive/insurance.csv')"
      ],
      "metadata": {
        "id": "THvSeHZv_IDH"
      },
      "execution_count": 2,
      "outputs": []
    },
    {
      "cell_type": "code",
      "source": [
        "# get the number of rows and columns\n",
        "df.shape"
      ],
      "metadata": {
        "colab": {
          "base_uri": "https://localhost:8080/"
        },
        "id": "LBq3rMZmAkaB",
        "outputId": "33d1f777-e7f7-4e1c-8522-862a869c3fbe"
      },
      "execution_count": 3,
      "outputs": [
        {
          "output_type": "execute_result",
          "data": {
            "text/plain": [
              "(1338, 7)"
            ]
          },
          "metadata": {},
          "execution_count": 3
        }
      ]
    },
    {
      "cell_type": "markdown",
      "source": [
        "The dataset has 1338 records and 7 columns."
      ],
      "metadata": {
        "id": "hoxeCw4QBpyB"
      }
    },
    {
      "cell_type": "code",
      "source": [
        "# view the first five rows of dataframe\n",
        "df.head()"
      ],
      "metadata": {
        "colab": {
          "base_uri": "https://localhost:8080/",
          "height": 206
        },
        "id": "mZJB7sANAvXe",
        "outputId": "118af41a-e205-470e-eb87-4d1f78e570d8"
      },
      "execution_count": 4,
      "outputs": [
        {
          "output_type": "execute_result",
          "data": {
            "text/plain": [
              "   age     sex     bmi  children smoker     region      charges\n",
              "0   19  female  27.900         0    yes  southwest  16884.92400\n",
              "1   18    male  33.770         1     no  southeast   1725.55230\n",
              "2   28    male  33.000         3     no  southeast   4449.46200\n",
              "3   33    male  22.705         0     no  northwest  21984.47061\n",
              "4   32    male  28.880         0     no  northwest   3866.85520"
            ],
            "text/html": [
              "\n",
              "  <div id=\"df-50e67402-2af7-4d75-81df-dae00e93e137\">\n",
              "    <div class=\"colab-df-container\">\n",
              "      <div>\n",
              "<style scoped>\n",
              "    .dataframe tbody tr th:only-of-type {\n",
              "        vertical-align: middle;\n",
              "    }\n",
              "\n",
              "    .dataframe tbody tr th {\n",
              "        vertical-align: top;\n",
              "    }\n",
              "\n",
              "    .dataframe thead th {\n",
              "        text-align: right;\n",
              "    }\n",
              "</style>\n",
              "<table border=\"1\" class=\"dataframe\">\n",
              "  <thead>\n",
              "    <tr style=\"text-align: right;\">\n",
              "      <th></th>\n",
              "      <th>age</th>\n",
              "      <th>sex</th>\n",
              "      <th>bmi</th>\n",
              "      <th>children</th>\n",
              "      <th>smoker</th>\n",
              "      <th>region</th>\n",
              "      <th>charges</th>\n",
              "    </tr>\n",
              "  </thead>\n",
              "  <tbody>\n",
              "    <tr>\n",
              "      <th>0</th>\n",
              "      <td>19</td>\n",
              "      <td>female</td>\n",
              "      <td>27.900</td>\n",
              "      <td>0</td>\n",
              "      <td>yes</td>\n",
              "      <td>southwest</td>\n",
              "      <td>16884.92400</td>\n",
              "    </tr>\n",
              "    <tr>\n",
              "      <th>1</th>\n",
              "      <td>18</td>\n",
              "      <td>male</td>\n",
              "      <td>33.770</td>\n",
              "      <td>1</td>\n",
              "      <td>no</td>\n",
              "      <td>southeast</td>\n",
              "      <td>1725.55230</td>\n",
              "    </tr>\n",
              "    <tr>\n",
              "      <th>2</th>\n",
              "      <td>28</td>\n",
              "      <td>male</td>\n",
              "      <td>33.000</td>\n",
              "      <td>3</td>\n",
              "      <td>no</td>\n",
              "      <td>southeast</td>\n",
              "      <td>4449.46200</td>\n",
              "    </tr>\n",
              "    <tr>\n",
              "      <th>3</th>\n",
              "      <td>33</td>\n",
              "      <td>male</td>\n",
              "      <td>22.705</td>\n",
              "      <td>0</td>\n",
              "      <td>no</td>\n",
              "      <td>northwest</td>\n",
              "      <td>21984.47061</td>\n",
              "    </tr>\n",
              "    <tr>\n",
              "      <th>4</th>\n",
              "      <td>32</td>\n",
              "      <td>male</td>\n",
              "      <td>28.880</td>\n",
              "      <td>0</td>\n",
              "      <td>no</td>\n",
              "      <td>northwest</td>\n",
              "      <td>3866.85520</td>\n",
              "    </tr>\n",
              "  </tbody>\n",
              "</table>\n",
              "</div>\n",
              "      <button class=\"colab-df-convert\" onclick=\"convertToInteractive('df-50e67402-2af7-4d75-81df-dae00e93e137')\"\n",
              "              title=\"Convert this dataframe to an interactive table.\"\n",
              "              style=\"display:none;\">\n",
              "        \n",
              "  <svg xmlns=\"http://www.w3.org/2000/svg\" height=\"24px\"viewBox=\"0 0 24 24\"\n",
              "       width=\"24px\">\n",
              "    <path d=\"M0 0h24v24H0V0z\" fill=\"none\"/>\n",
              "    <path d=\"M18.56 5.44l.94 2.06.94-2.06 2.06-.94-2.06-.94-.94-2.06-.94 2.06-2.06.94zm-11 1L8.5 8.5l.94-2.06 2.06-.94-2.06-.94L8.5 2.5l-.94 2.06-2.06.94zm10 10l.94 2.06.94-2.06 2.06-.94-2.06-.94-.94-2.06-.94 2.06-2.06.94z\"/><path d=\"M17.41 7.96l-1.37-1.37c-.4-.4-.92-.59-1.43-.59-.52 0-1.04.2-1.43.59L10.3 9.45l-7.72 7.72c-.78.78-.78 2.05 0 2.83L4 21.41c.39.39.9.59 1.41.59.51 0 1.02-.2 1.41-.59l7.78-7.78 2.81-2.81c.8-.78.8-2.07 0-2.86zM5.41 20L4 18.59l7.72-7.72 1.47 1.35L5.41 20z\"/>\n",
              "  </svg>\n",
              "      </button>\n",
              "      \n",
              "  <style>\n",
              "    .colab-df-container {\n",
              "      display:flex;\n",
              "      flex-wrap:wrap;\n",
              "      gap: 12px;\n",
              "    }\n",
              "\n",
              "    .colab-df-convert {\n",
              "      background-color: #E8F0FE;\n",
              "      border: none;\n",
              "      border-radius: 50%;\n",
              "      cursor: pointer;\n",
              "      display: none;\n",
              "      fill: #1967D2;\n",
              "      height: 32px;\n",
              "      padding: 0 0 0 0;\n",
              "      width: 32px;\n",
              "    }\n",
              "\n",
              "    .colab-df-convert:hover {\n",
              "      background-color: #E2EBFA;\n",
              "      box-shadow: 0px 1px 2px rgba(60, 64, 67, 0.3), 0px 1px 3px 1px rgba(60, 64, 67, 0.15);\n",
              "      fill: #174EA6;\n",
              "    }\n",
              "\n",
              "    [theme=dark] .colab-df-convert {\n",
              "      background-color: #3B4455;\n",
              "      fill: #D2E3FC;\n",
              "    }\n",
              "\n",
              "    [theme=dark] .colab-df-convert:hover {\n",
              "      background-color: #434B5C;\n",
              "      box-shadow: 0px 1px 3px 1px rgba(0, 0, 0, 0.15);\n",
              "      filter: drop-shadow(0px 1px 2px rgba(0, 0, 0, 0.3));\n",
              "      fill: #FFFFFF;\n",
              "    }\n",
              "  </style>\n",
              "\n",
              "      <script>\n",
              "        const buttonEl =\n",
              "          document.querySelector('#df-50e67402-2af7-4d75-81df-dae00e93e137 button.colab-df-convert');\n",
              "        buttonEl.style.display =\n",
              "          google.colab.kernel.accessAllowed ? 'block' : 'none';\n",
              "\n",
              "        async function convertToInteractive(key) {\n",
              "          const element = document.querySelector('#df-50e67402-2af7-4d75-81df-dae00e93e137');\n",
              "          const dataTable =\n",
              "            await google.colab.kernel.invokeFunction('convertToInteractive',\n",
              "                                                     [key], {});\n",
              "          if (!dataTable) return;\n",
              "\n",
              "          const docLinkHtml = 'Like what you see? Visit the ' +\n",
              "            '<a target=\"_blank\" href=https://colab.research.google.com/notebooks/data_table.ipynb>data table notebook</a>'\n",
              "            + ' to learn more about interactive tables.';\n",
              "          element.innerHTML = '';\n",
              "          dataTable['output_type'] = 'display_data';\n",
              "          await google.colab.output.renderOutput(dataTable, element);\n",
              "          const docLink = document.createElement('div');\n",
              "          docLink.innerHTML = docLinkHtml;\n",
              "          element.appendChild(docLink);\n",
              "        }\n",
              "      </script>\n",
              "    </div>\n",
              "  </div>\n",
              "  "
            ]
          },
          "metadata": {},
          "execution_count": 4
        }
      ]
    },
    {
      "cell_type": "markdown",
      "source": [
        "The dataset consist categorical variables (smoker, sex, region) and numeric variables (age, BMI, children)."
      ],
      "metadata": {
        "id": "RKKbhBn-BFw6"
      }
    },
    {
      "cell_type": "code",
      "source": [
        "# examine the missing values in the dataset\n",
        "df.isnull().sum()"
      ],
      "metadata": {
        "colab": {
          "base_uri": "https://localhost:8080/"
        },
        "id": "zkTFlA-BAybX",
        "outputId": "4d6c48c4-ebe8-4da0-835f-0bc5559e84d2"
      },
      "execution_count": 5,
      "outputs": [
        {
          "output_type": "execute_result",
          "data": {
            "text/plain": [
              "age         0\n",
              "sex         0\n",
              "bmi         0\n",
              "children    0\n",
              "smoker      0\n",
              "region      0\n",
              "charges     0\n",
              "dtype: int64"
            ]
          },
          "metadata": {},
          "execution_count": 5
        }
      ]
    },
    {
      "cell_type": "markdown",
      "source": [
        "No missing values in the dataset. "
      ],
      "metadata": {
        "id": "9lkvW3khByBP"
      }
    },
    {
      "cell_type": "code",
      "source": [
        "# examine the duplicate row\n",
        "duplicate_rows = df[df.duplicated()]\n",
        "print(\"Duplicate rows: \")\n",
        "duplicate_rows"
      ],
      "metadata": {
        "colab": {
          "base_uri": "https://localhost:8080/",
          "height": 98
        },
        "id": "IwWKT-HGB12D",
        "outputId": "45dc80b7-9b3e-4b54-cfb6-ae13b173f956"
      },
      "execution_count": 6,
      "outputs": [
        {
          "output_type": "stream",
          "name": "stdout",
          "text": [
            "Duplicate rows: \n"
          ]
        },
        {
          "output_type": "execute_result",
          "data": {
            "text/plain": [
              "     age   sex    bmi  children smoker     region    charges\n",
              "581   19  male  30.59         0     no  northwest  1639.5631"
            ],
            "text/html": [
              "\n",
              "  <div id=\"df-d6aaa276-b0a3-4fce-9768-c6e7e842ffad\">\n",
              "    <div class=\"colab-df-container\">\n",
              "      <div>\n",
              "<style scoped>\n",
              "    .dataframe tbody tr th:only-of-type {\n",
              "        vertical-align: middle;\n",
              "    }\n",
              "\n",
              "    .dataframe tbody tr th {\n",
              "        vertical-align: top;\n",
              "    }\n",
              "\n",
              "    .dataframe thead th {\n",
              "        text-align: right;\n",
              "    }\n",
              "</style>\n",
              "<table border=\"1\" class=\"dataframe\">\n",
              "  <thead>\n",
              "    <tr style=\"text-align: right;\">\n",
              "      <th></th>\n",
              "      <th>age</th>\n",
              "      <th>sex</th>\n",
              "      <th>bmi</th>\n",
              "      <th>children</th>\n",
              "      <th>smoker</th>\n",
              "      <th>region</th>\n",
              "      <th>charges</th>\n",
              "    </tr>\n",
              "  </thead>\n",
              "  <tbody>\n",
              "    <tr>\n",
              "      <th>581</th>\n",
              "      <td>19</td>\n",
              "      <td>male</td>\n",
              "      <td>30.59</td>\n",
              "      <td>0</td>\n",
              "      <td>no</td>\n",
              "      <td>northwest</td>\n",
              "      <td>1639.5631</td>\n",
              "    </tr>\n",
              "  </tbody>\n",
              "</table>\n",
              "</div>\n",
              "      <button class=\"colab-df-convert\" onclick=\"convertToInteractive('df-d6aaa276-b0a3-4fce-9768-c6e7e842ffad')\"\n",
              "              title=\"Convert this dataframe to an interactive table.\"\n",
              "              style=\"display:none;\">\n",
              "        \n",
              "  <svg xmlns=\"http://www.w3.org/2000/svg\" height=\"24px\"viewBox=\"0 0 24 24\"\n",
              "       width=\"24px\">\n",
              "    <path d=\"M0 0h24v24H0V0z\" fill=\"none\"/>\n",
              "    <path d=\"M18.56 5.44l.94 2.06.94-2.06 2.06-.94-2.06-.94-.94-2.06-.94 2.06-2.06.94zm-11 1L8.5 8.5l.94-2.06 2.06-.94-2.06-.94L8.5 2.5l-.94 2.06-2.06.94zm10 10l.94 2.06.94-2.06 2.06-.94-2.06-.94-.94-2.06-.94 2.06-2.06.94z\"/><path d=\"M17.41 7.96l-1.37-1.37c-.4-.4-.92-.59-1.43-.59-.52 0-1.04.2-1.43.59L10.3 9.45l-7.72 7.72c-.78.78-.78 2.05 0 2.83L4 21.41c.39.39.9.59 1.41.59.51 0 1.02-.2 1.41-.59l7.78-7.78 2.81-2.81c.8-.78.8-2.07 0-2.86zM5.41 20L4 18.59l7.72-7.72 1.47 1.35L5.41 20z\"/>\n",
              "  </svg>\n",
              "      </button>\n",
              "      \n",
              "  <style>\n",
              "    .colab-df-container {\n",
              "      display:flex;\n",
              "      flex-wrap:wrap;\n",
              "      gap: 12px;\n",
              "    }\n",
              "\n",
              "    .colab-df-convert {\n",
              "      background-color: #E8F0FE;\n",
              "      border: none;\n",
              "      border-radius: 50%;\n",
              "      cursor: pointer;\n",
              "      display: none;\n",
              "      fill: #1967D2;\n",
              "      height: 32px;\n",
              "      padding: 0 0 0 0;\n",
              "      width: 32px;\n",
              "    }\n",
              "\n",
              "    .colab-df-convert:hover {\n",
              "      background-color: #E2EBFA;\n",
              "      box-shadow: 0px 1px 2px rgba(60, 64, 67, 0.3), 0px 1px 3px 1px rgba(60, 64, 67, 0.15);\n",
              "      fill: #174EA6;\n",
              "    }\n",
              "\n",
              "    [theme=dark] .colab-df-convert {\n",
              "      background-color: #3B4455;\n",
              "      fill: #D2E3FC;\n",
              "    }\n",
              "\n",
              "    [theme=dark] .colab-df-convert:hover {\n",
              "      background-color: #434B5C;\n",
              "      box-shadow: 0px 1px 3px 1px rgba(0, 0, 0, 0.15);\n",
              "      filter: drop-shadow(0px 1px 2px rgba(0, 0, 0, 0.3));\n",
              "      fill: #FFFFFF;\n",
              "    }\n",
              "  </style>\n",
              "\n",
              "      <script>\n",
              "        const buttonEl =\n",
              "          document.querySelector('#df-d6aaa276-b0a3-4fce-9768-c6e7e842ffad button.colab-df-convert');\n",
              "        buttonEl.style.display =\n",
              "          google.colab.kernel.accessAllowed ? 'block' : 'none';\n",
              "\n",
              "        async function convertToInteractive(key) {\n",
              "          const element = document.querySelector('#df-d6aaa276-b0a3-4fce-9768-c6e7e842ffad');\n",
              "          const dataTable =\n",
              "            await google.colab.kernel.invokeFunction('convertToInteractive',\n",
              "                                                     [key], {});\n",
              "          if (!dataTable) return;\n",
              "\n",
              "          const docLinkHtml = 'Like what you see? Visit the ' +\n",
              "            '<a target=\"_blank\" href=https://colab.research.google.com/notebooks/data_table.ipynb>data table notebook</a>'\n",
              "            + ' to learn more about interactive tables.';\n",
              "          element.innerHTML = '';\n",
              "          dataTable['output_type'] = 'display_data';\n",
              "          await google.colab.output.renderOutput(dataTable, element);\n",
              "          const docLink = document.createElement('div');\n",
              "          docLink.innerHTML = docLinkHtml;\n",
              "          element.appendChild(docLink);\n",
              "        }\n",
              "      </script>\n",
              "    </div>\n",
              "  </div>\n",
              "  "
            ]
          },
          "metadata": {},
          "execution_count": 6
        }
      ]
    },
    {
      "cell_type": "code",
      "source": [
        "# Count duplicate in a DataFrame\n",
        "df.duplicated().sum()"
      ],
      "metadata": {
        "colab": {
          "base_uri": "https://localhost:8080/"
        },
        "id": "FcTFC211C_Jp",
        "outputId": "5134dece-a3f2-449e-b5c6-e8af398521dd"
      },
      "execution_count": 7,
      "outputs": [
        {
          "output_type": "execute_result",
          "data": {
            "text/plain": [
              "1"
            ]
          },
          "metadata": {},
          "execution_count": 7
        }
      ]
    },
    {
      "cell_type": "markdown",
      "source": [
        "The dataset consist one duplicate row. We need to remove the duplicate row."
      ],
      "metadata": {
        "id": "4V4p-peUDHOK"
      }
    },
    {
      "cell_type": "code",
      "source": [
        "# drop duplicate row\n",
        "df.drop_duplicates()"
      ],
      "metadata": {
        "colab": {
          "base_uri": "https://localhost:8080/",
          "height": 423
        },
        "id": "JqykCbOqCuXc",
        "outputId": "a69eb40d-8efe-4c7a-df9c-398dbeaf4ece"
      },
      "execution_count": 8,
      "outputs": [
        {
          "output_type": "execute_result",
          "data": {
            "text/plain": [
              "      age     sex     bmi  children smoker     region      charges\n",
              "0      19  female  27.900         0    yes  southwest  16884.92400\n",
              "1      18    male  33.770         1     no  southeast   1725.55230\n",
              "2      28    male  33.000         3     no  southeast   4449.46200\n",
              "3      33    male  22.705         0     no  northwest  21984.47061\n",
              "4      32    male  28.880         0     no  northwest   3866.85520\n",
              "...   ...     ...     ...       ...    ...        ...          ...\n",
              "1333   50    male  30.970         3     no  northwest  10600.54830\n",
              "1334   18  female  31.920         0     no  northeast   2205.98080\n",
              "1335   18  female  36.850         0     no  southeast   1629.83350\n",
              "1336   21  female  25.800         0     no  southwest   2007.94500\n",
              "1337   61  female  29.070         0    yes  northwest  29141.36030\n",
              "\n",
              "[1337 rows x 7 columns]"
            ],
            "text/html": [
              "\n",
              "  <div id=\"df-32057ea2-3bbb-43c9-8a60-6309a20c2068\">\n",
              "    <div class=\"colab-df-container\">\n",
              "      <div>\n",
              "<style scoped>\n",
              "    .dataframe tbody tr th:only-of-type {\n",
              "        vertical-align: middle;\n",
              "    }\n",
              "\n",
              "    .dataframe tbody tr th {\n",
              "        vertical-align: top;\n",
              "    }\n",
              "\n",
              "    .dataframe thead th {\n",
              "        text-align: right;\n",
              "    }\n",
              "</style>\n",
              "<table border=\"1\" class=\"dataframe\">\n",
              "  <thead>\n",
              "    <tr style=\"text-align: right;\">\n",
              "      <th></th>\n",
              "      <th>age</th>\n",
              "      <th>sex</th>\n",
              "      <th>bmi</th>\n",
              "      <th>children</th>\n",
              "      <th>smoker</th>\n",
              "      <th>region</th>\n",
              "      <th>charges</th>\n",
              "    </tr>\n",
              "  </thead>\n",
              "  <tbody>\n",
              "    <tr>\n",
              "      <th>0</th>\n",
              "      <td>19</td>\n",
              "      <td>female</td>\n",
              "      <td>27.900</td>\n",
              "      <td>0</td>\n",
              "      <td>yes</td>\n",
              "      <td>southwest</td>\n",
              "      <td>16884.92400</td>\n",
              "    </tr>\n",
              "    <tr>\n",
              "      <th>1</th>\n",
              "      <td>18</td>\n",
              "      <td>male</td>\n",
              "      <td>33.770</td>\n",
              "      <td>1</td>\n",
              "      <td>no</td>\n",
              "      <td>southeast</td>\n",
              "      <td>1725.55230</td>\n",
              "    </tr>\n",
              "    <tr>\n",
              "      <th>2</th>\n",
              "      <td>28</td>\n",
              "      <td>male</td>\n",
              "      <td>33.000</td>\n",
              "      <td>3</td>\n",
              "      <td>no</td>\n",
              "      <td>southeast</td>\n",
              "      <td>4449.46200</td>\n",
              "    </tr>\n",
              "    <tr>\n",
              "      <th>3</th>\n",
              "      <td>33</td>\n",
              "      <td>male</td>\n",
              "      <td>22.705</td>\n",
              "      <td>0</td>\n",
              "      <td>no</td>\n",
              "      <td>northwest</td>\n",
              "      <td>21984.47061</td>\n",
              "    </tr>\n",
              "    <tr>\n",
              "      <th>4</th>\n",
              "      <td>32</td>\n",
              "      <td>male</td>\n",
              "      <td>28.880</td>\n",
              "      <td>0</td>\n",
              "      <td>no</td>\n",
              "      <td>northwest</td>\n",
              "      <td>3866.85520</td>\n",
              "    </tr>\n",
              "    <tr>\n",
              "      <th>...</th>\n",
              "      <td>...</td>\n",
              "      <td>...</td>\n",
              "      <td>...</td>\n",
              "      <td>...</td>\n",
              "      <td>...</td>\n",
              "      <td>...</td>\n",
              "      <td>...</td>\n",
              "    </tr>\n",
              "    <tr>\n",
              "      <th>1333</th>\n",
              "      <td>50</td>\n",
              "      <td>male</td>\n",
              "      <td>30.970</td>\n",
              "      <td>3</td>\n",
              "      <td>no</td>\n",
              "      <td>northwest</td>\n",
              "      <td>10600.54830</td>\n",
              "    </tr>\n",
              "    <tr>\n",
              "      <th>1334</th>\n",
              "      <td>18</td>\n",
              "      <td>female</td>\n",
              "      <td>31.920</td>\n",
              "      <td>0</td>\n",
              "      <td>no</td>\n",
              "      <td>northeast</td>\n",
              "      <td>2205.98080</td>\n",
              "    </tr>\n",
              "    <tr>\n",
              "      <th>1335</th>\n",
              "      <td>18</td>\n",
              "      <td>female</td>\n",
              "      <td>36.850</td>\n",
              "      <td>0</td>\n",
              "      <td>no</td>\n",
              "      <td>southeast</td>\n",
              "      <td>1629.83350</td>\n",
              "    </tr>\n",
              "    <tr>\n",
              "      <th>1336</th>\n",
              "      <td>21</td>\n",
              "      <td>female</td>\n",
              "      <td>25.800</td>\n",
              "      <td>0</td>\n",
              "      <td>no</td>\n",
              "      <td>southwest</td>\n",
              "      <td>2007.94500</td>\n",
              "    </tr>\n",
              "    <tr>\n",
              "      <th>1337</th>\n",
              "      <td>61</td>\n",
              "      <td>female</td>\n",
              "      <td>29.070</td>\n",
              "      <td>0</td>\n",
              "      <td>yes</td>\n",
              "      <td>northwest</td>\n",
              "      <td>29141.36030</td>\n",
              "    </tr>\n",
              "  </tbody>\n",
              "</table>\n",
              "<p>1337 rows × 7 columns</p>\n",
              "</div>\n",
              "      <button class=\"colab-df-convert\" onclick=\"convertToInteractive('df-32057ea2-3bbb-43c9-8a60-6309a20c2068')\"\n",
              "              title=\"Convert this dataframe to an interactive table.\"\n",
              "              style=\"display:none;\">\n",
              "        \n",
              "  <svg xmlns=\"http://www.w3.org/2000/svg\" height=\"24px\"viewBox=\"0 0 24 24\"\n",
              "       width=\"24px\">\n",
              "    <path d=\"M0 0h24v24H0V0z\" fill=\"none\"/>\n",
              "    <path d=\"M18.56 5.44l.94 2.06.94-2.06 2.06-.94-2.06-.94-.94-2.06-.94 2.06-2.06.94zm-11 1L8.5 8.5l.94-2.06 2.06-.94-2.06-.94L8.5 2.5l-.94 2.06-2.06.94zm10 10l.94 2.06.94-2.06 2.06-.94-2.06-.94-.94-2.06-.94 2.06-2.06.94z\"/><path d=\"M17.41 7.96l-1.37-1.37c-.4-.4-.92-.59-1.43-.59-.52 0-1.04.2-1.43.59L10.3 9.45l-7.72 7.72c-.78.78-.78 2.05 0 2.83L4 21.41c.39.39.9.59 1.41.59.51 0 1.02-.2 1.41-.59l7.78-7.78 2.81-2.81c.8-.78.8-2.07 0-2.86zM5.41 20L4 18.59l7.72-7.72 1.47 1.35L5.41 20z\"/>\n",
              "  </svg>\n",
              "      </button>\n",
              "      \n",
              "  <style>\n",
              "    .colab-df-container {\n",
              "      display:flex;\n",
              "      flex-wrap:wrap;\n",
              "      gap: 12px;\n",
              "    }\n",
              "\n",
              "    .colab-df-convert {\n",
              "      background-color: #E8F0FE;\n",
              "      border: none;\n",
              "      border-radius: 50%;\n",
              "      cursor: pointer;\n",
              "      display: none;\n",
              "      fill: #1967D2;\n",
              "      height: 32px;\n",
              "      padding: 0 0 0 0;\n",
              "      width: 32px;\n",
              "    }\n",
              "\n",
              "    .colab-df-convert:hover {\n",
              "      background-color: #E2EBFA;\n",
              "      box-shadow: 0px 1px 2px rgba(60, 64, 67, 0.3), 0px 1px 3px 1px rgba(60, 64, 67, 0.15);\n",
              "      fill: #174EA6;\n",
              "    }\n",
              "\n",
              "    [theme=dark] .colab-df-convert {\n",
              "      background-color: #3B4455;\n",
              "      fill: #D2E3FC;\n",
              "    }\n",
              "\n",
              "    [theme=dark] .colab-df-convert:hover {\n",
              "      background-color: #434B5C;\n",
              "      box-shadow: 0px 1px 3px 1px rgba(0, 0, 0, 0.15);\n",
              "      filter: drop-shadow(0px 1px 2px rgba(0, 0, 0, 0.3));\n",
              "      fill: #FFFFFF;\n",
              "    }\n",
              "  </style>\n",
              "\n",
              "      <script>\n",
              "        const buttonEl =\n",
              "          document.querySelector('#df-32057ea2-3bbb-43c9-8a60-6309a20c2068 button.colab-df-convert');\n",
              "        buttonEl.style.display =\n",
              "          google.colab.kernel.accessAllowed ? 'block' : 'none';\n",
              "\n",
              "        async function convertToInteractive(key) {\n",
              "          const element = document.querySelector('#df-32057ea2-3bbb-43c9-8a60-6309a20c2068');\n",
              "          const dataTable =\n",
              "            await google.colab.kernel.invokeFunction('convertToInteractive',\n",
              "                                                     [key], {});\n",
              "          if (!dataTable) return;\n",
              "\n",
              "          const docLinkHtml = 'Like what you see? Visit the ' +\n",
              "            '<a target=\"_blank\" href=https://colab.research.google.com/notebooks/data_table.ipynb>data table notebook</a>'\n",
              "            + ' to learn more about interactive tables.';\n",
              "          element.innerHTML = '';\n",
              "          dataTable['output_type'] = 'display_data';\n",
              "          await google.colab.output.renderOutput(dataTable, element);\n",
              "          const docLink = document.createElement('div');\n",
              "          docLink.innerHTML = docLinkHtml;\n",
              "          element.appendChild(docLink);\n",
              "        }\n",
              "      </script>\n",
              "    </div>\n",
              "  </div>\n",
              "  "
            ]
          },
          "metadata": {},
          "execution_count": 8
        }
      ]
    },
    {
      "cell_type": "markdown",
      "source": [
        "We can see the shape of dataset has changed, becomes 1337 records and 7 columns. It means one duplicate row has removed."
      ],
      "metadata": {
        "id": "GGGCknSYDW8n"
      }
    },
    {
      "cell_type": "code",
      "source": [
        "# evaluate the relationship variables with correlation matrix\n",
        "cormat = df.corr()\n",
        "round(cormat,2)"
      ],
      "metadata": {
        "colab": {
          "base_uri": "https://localhost:8080/",
          "height": 175
        },
        "id": "RJRApTaUDqNp",
        "outputId": "ea35c4e1-f20d-4b84-fc19-533d2a6ff9f3"
      },
      "execution_count": 9,
      "outputs": [
        {
          "output_type": "execute_result",
          "data": {
            "text/plain": [
              "           age   bmi  children  charges\n",
              "age       1.00  0.11      0.04     0.30\n",
              "bmi       0.11  1.00      0.01     0.20\n",
              "children  0.04  0.01      1.00     0.07\n",
              "charges   0.30  0.20      0.07     1.00"
            ],
            "text/html": [
              "\n",
              "  <div id=\"df-551c7796-9b6c-4974-afc2-18abafecf11a\">\n",
              "    <div class=\"colab-df-container\">\n",
              "      <div>\n",
              "<style scoped>\n",
              "    .dataframe tbody tr th:only-of-type {\n",
              "        vertical-align: middle;\n",
              "    }\n",
              "\n",
              "    .dataframe tbody tr th {\n",
              "        vertical-align: top;\n",
              "    }\n",
              "\n",
              "    .dataframe thead th {\n",
              "        text-align: right;\n",
              "    }\n",
              "</style>\n",
              "<table border=\"1\" class=\"dataframe\">\n",
              "  <thead>\n",
              "    <tr style=\"text-align: right;\">\n",
              "      <th></th>\n",
              "      <th>age</th>\n",
              "      <th>bmi</th>\n",
              "      <th>children</th>\n",
              "      <th>charges</th>\n",
              "    </tr>\n",
              "  </thead>\n",
              "  <tbody>\n",
              "    <tr>\n",
              "      <th>age</th>\n",
              "      <td>1.00</td>\n",
              "      <td>0.11</td>\n",
              "      <td>0.04</td>\n",
              "      <td>0.30</td>\n",
              "    </tr>\n",
              "    <tr>\n",
              "      <th>bmi</th>\n",
              "      <td>0.11</td>\n",
              "      <td>1.00</td>\n",
              "      <td>0.01</td>\n",
              "      <td>0.20</td>\n",
              "    </tr>\n",
              "    <tr>\n",
              "      <th>children</th>\n",
              "      <td>0.04</td>\n",
              "      <td>0.01</td>\n",
              "      <td>1.00</td>\n",
              "      <td>0.07</td>\n",
              "    </tr>\n",
              "    <tr>\n",
              "      <th>charges</th>\n",
              "      <td>0.30</td>\n",
              "      <td>0.20</td>\n",
              "      <td>0.07</td>\n",
              "      <td>1.00</td>\n",
              "    </tr>\n",
              "  </tbody>\n",
              "</table>\n",
              "</div>\n",
              "      <button class=\"colab-df-convert\" onclick=\"convertToInteractive('df-551c7796-9b6c-4974-afc2-18abafecf11a')\"\n",
              "              title=\"Convert this dataframe to an interactive table.\"\n",
              "              style=\"display:none;\">\n",
              "        \n",
              "  <svg xmlns=\"http://www.w3.org/2000/svg\" height=\"24px\"viewBox=\"0 0 24 24\"\n",
              "       width=\"24px\">\n",
              "    <path d=\"M0 0h24v24H0V0z\" fill=\"none\"/>\n",
              "    <path d=\"M18.56 5.44l.94 2.06.94-2.06 2.06-.94-2.06-.94-.94-2.06-.94 2.06-2.06.94zm-11 1L8.5 8.5l.94-2.06 2.06-.94-2.06-.94L8.5 2.5l-.94 2.06-2.06.94zm10 10l.94 2.06.94-2.06 2.06-.94-2.06-.94-.94-2.06-.94 2.06-2.06.94z\"/><path d=\"M17.41 7.96l-1.37-1.37c-.4-.4-.92-.59-1.43-.59-.52 0-1.04.2-1.43.59L10.3 9.45l-7.72 7.72c-.78.78-.78 2.05 0 2.83L4 21.41c.39.39.9.59 1.41.59.51 0 1.02-.2 1.41-.59l7.78-7.78 2.81-2.81c.8-.78.8-2.07 0-2.86zM5.41 20L4 18.59l7.72-7.72 1.47 1.35L5.41 20z\"/>\n",
              "  </svg>\n",
              "      </button>\n",
              "      \n",
              "  <style>\n",
              "    .colab-df-container {\n",
              "      display:flex;\n",
              "      flex-wrap:wrap;\n",
              "      gap: 12px;\n",
              "    }\n",
              "\n",
              "    .colab-df-convert {\n",
              "      background-color: #E8F0FE;\n",
              "      border: none;\n",
              "      border-radius: 50%;\n",
              "      cursor: pointer;\n",
              "      display: none;\n",
              "      fill: #1967D2;\n",
              "      height: 32px;\n",
              "      padding: 0 0 0 0;\n",
              "      width: 32px;\n",
              "    }\n",
              "\n",
              "    .colab-df-convert:hover {\n",
              "      background-color: #E2EBFA;\n",
              "      box-shadow: 0px 1px 2px rgba(60, 64, 67, 0.3), 0px 1px 3px 1px rgba(60, 64, 67, 0.15);\n",
              "      fill: #174EA6;\n",
              "    }\n",
              "\n",
              "    [theme=dark] .colab-df-convert {\n",
              "      background-color: #3B4455;\n",
              "      fill: #D2E3FC;\n",
              "    }\n",
              "\n",
              "    [theme=dark] .colab-df-convert:hover {\n",
              "      background-color: #434B5C;\n",
              "      box-shadow: 0px 1px 3px 1px rgba(0, 0, 0, 0.15);\n",
              "      filter: drop-shadow(0px 1px 2px rgba(0, 0, 0, 0.3));\n",
              "      fill: #FFFFFF;\n",
              "    }\n",
              "  </style>\n",
              "\n",
              "      <script>\n",
              "        const buttonEl =\n",
              "          document.querySelector('#df-551c7796-9b6c-4974-afc2-18abafecf11a button.colab-df-convert');\n",
              "        buttonEl.style.display =\n",
              "          google.colab.kernel.accessAllowed ? 'block' : 'none';\n",
              "\n",
              "        async function convertToInteractive(key) {\n",
              "          const element = document.querySelector('#df-551c7796-9b6c-4974-afc2-18abafecf11a');\n",
              "          const dataTable =\n",
              "            await google.colab.kernel.invokeFunction('convertToInteractive',\n",
              "                                                     [key], {});\n",
              "          if (!dataTable) return;\n",
              "\n",
              "          const docLinkHtml = 'Like what you see? Visit the ' +\n",
              "            '<a target=\"_blank\" href=https://colab.research.google.com/notebooks/data_table.ipynb>data table notebook</a>'\n",
              "            + ' to learn more about interactive tables.';\n",
              "          element.innerHTML = '';\n",
              "          dataTable['output_type'] = 'display_data';\n",
              "          await google.colab.output.renderOutput(dataTable, element);\n",
              "          const docLink = document.createElement('div');\n",
              "          docLink.innerHTML = docLinkHtml;\n",
              "          element.appendChild(docLink);\n",
              "        }\n",
              "      </script>\n",
              "    </div>\n",
              "  </div>\n",
              "  "
            ]
          },
          "metadata": {},
          "execution_count": 9
        }
      ]
    },
    {
      "cell_type": "code",
      "source": [
        "# evaluate the relationship variables with heatmap\n",
        "sns.heatmap(df[['age', 'bmi', 'children', 'charges']].corr(), cmap='Blues', annot=True)\n",
        "plt.show()"
      ],
      "metadata": {
        "colab": {
          "base_uri": "https://localhost:8080/",
          "height": 435
        },
        "id": "arkcBmUaEBQE",
        "outputId": "554f0c38-804c-4569-bab3-793aed8ae01c"
      },
      "execution_count": 10,
      "outputs": [
        {
          "output_type": "display_data",
          "data": {
            "text/plain": [
              "<Figure size 640x480 with 2 Axes>"
            ],
            "image/png": "[encoded data removed]"
          },
          "metadata": {}
        }
      ]
    },
    {
      "cell_type": "markdown",
      "source": [
        "Age and BMI have strong correlation with chagers."
      ],
      "metadata": {
        "id": "WZyRAXgFI0Ab"
      }
    },
    {
      "cell_type": "code",
      "source": [
        "# one-hot encoding to convert categorical variables\n",
        "region=pd.get_dummies(df.region, prefix='location')\n",
        "df = pd.concat([df,region],axis=1)\n",
        "df.drop(columns='region', inplace=True)\n",
        "\n",
        "df.sex.replace(to_replace=['male','female'],value=[1,0], inplace=True)\n",
        "df.smoker.replace(to_replace=['yes', 'no'], value=[1,0], inplace=True)"
      ],
      "metadata": {
        "id": "lYGBh1TkGAGp"
      },
      "execution_count": 11,
      "outputs": []
    },
    {
      "cell_type": "code",
      "source": [
        "# feature selection\n",
        "y=df.charges.values\n",
        "X=df[['age', 'bmi', 'smoker', 'children', 'location_northeast', 'location_northwest', 'location_southeast', 'location_southwest']]\n",
        "print(X.shape)\n",
        "print(y.shape)"
      ],
      "metadata": {
        "id": "gp7ClRQ3QSCM",
        "colab": {
          "base_uri": "https://localhost:8080/"
        },
        "outputId": "62248bc0-1cef-4bca-d63f-25fe1a73ac1f"
      },
      "execution_count": 12,
      "outputs": [
        {
          "output_type": "stream",
          "name": "stdout",
          "text": [
            "(1338, 8)\n",
            "(1338,)\n"
          ]
        }
      ]
    },
    {
      "cell_type": "code",
      "source": [
        "# create model\n",
        "reg = LinearRegression()\n",
        "\n",
        "# split data into train, validation, and test set\n",
        "x_train, x_test, y_train, y_test = train_test_split(X,y,test_size=0.40, random_state=1)\n",
        "\n",
        "print(f\"the shape of the training set (input) is: {x_train.shape}\")\n",
        "print(f\"the shape of the training set (target) is: {y_train.shape}\\n\")\n",
        "print(f\"the shape of the test set (input) is: {x_test.shape}\")\n",
        "print(f\"the shape of the test set (target) is: {y_test.shape}\")"
      ],
      "metadata": {
        "colab": {
          "base_uri": "https://localhost:8080/"
        },
        "id": "yhX932bHmsc4",
        "outputId": "7d0cd35b-a4ca-45e6-c7ef-18cc6f715157"
      },
      "execution_count": 15,
      "outputs": [
        {
          "output_type": "stream",
          "name": "stdout",
          "text": [
            "the shape of the training set (input) is: (802, 8)\n",
            "the shape of the training set (target) is: (802,)\n",
            "\n",
            "the shape of the test set (input) is: (536, 8)\n",
            "the shape of the test set (target) is: (536,)\n"
          ]
        }
      ]
    },
    {
      "cell_type": "code",
      "source": [
        "# fit model to the training data\n",
        "reg = reg.fit(x_train,y_train)\n",
        "print(reg)"
      ],
      "metadata": {
        "colab": {
          "base_uri": "https://localhost:8080/"
        },
        "id": "8GKBOYrzmt8n",
        "outputId": "38dc08a1-554b-49ed-9aa6-b8a30866bb9d"
      },
      "execution_count": 16,
      "outputs": [
        {
          "output_type": "stream",
          "name": "stdout",
          "text": [
            "LinearRegression()\n"
          ]
        }
      ]
    },
    {
      "cell_type": "code",
      "source": [
        "# apply the model to the test set\n",
        "y_pred = reg.predict(x_test)\n",
        "print(y_pred)"
      ],
      "metadata": {
        "colab": {
          "base_uri": "https://localhost:8080/"
        },
        "id": "SIOQHulXm-zY",
        "outputId": "92e59c6c-a253-4e98-94b6-7299ca9507ad"
      },
      "execution_count": 17,
      "outputs": [
        {
          "output_type": "stream",
          "name": "stdout",
          "text": [
            "[ 4.09649809e+03  1.30034082e+04  1.22826332e+04  1.35684946e+04\n",
            "  2.64358476e+02  3.21511990e+04  1.33389853e+04  1.24657002e+04\n",
            "  3.94399427e+03  2.94292995e+04  1.12827063e+04  1.70640717e+04\n",
            "  9.08324076e+03  7.92369872e+03  3.12566989e+03  1.03925260e+04\n",
            "  3.88784245e+03  6.65744479e+03  1.52013591e+04  1.40479644e+04\n",
            "  1.28298287e+04  3.29508030e+04  8.90209015e+03  8.81935370e+03\n",
            "  2.79959435e+03  8.27315158e+03  1.01194218e+04  1.07875428e+04\n",
            "  7.22242791e+03  4.56879287e+03  1.37471145e+04  5.67563028e+03\n",
            "  3.50312214e+04  2.66920369e+04  3.36935483e+04  9.71755717e+03\n",
            "  2.98652591e+04  2.65145137e+04  1.52123390e+04  3.36873441e+04\n",
            "  6.35277816e+03  1.41460692e+04  1.11303335e+04  1.49466888e+04\n",
            "  3.83058588e+03  1.35323637e+04  4.42947628e+03  2.86522028e+04\n",
            "  7.25703623e+03  1.47907336e+04  1.37132338e+04  1.21055037e+04\n",
            "  1.77984794e+03  8.70937015e+03  2.61579236e+04  9.86811210e+03\n",
            "  3.44226495e+04  1.40986294e+04  3.32251778e+03  5.76287615e+03\n",
            "  6.39709788e+03  1.53174211e+04  2.68383656e+04  2.88557437e+03\n",
            "  1.61019493e+04  1.13370060e+04  1.14940620e+04  1.08136490e+04\n",
            "  1.23850888e+03  2.51555387e+04  3.77803822e+04  3.29241615e+04\n",
            "  1.25965498e+03  1.15717984e+04  1.38695402e+04  3.51605574e+04\n",
            "  3.15196763e+03  4.06418465e+03  1.00197722e+04  1.05015402e+04\n",
            "  1.16068544e+01  1.40832569e+04  1.03635483e+04  2.71593103e+03\n",
            "  3.36889636e+04  3.31122915e+04  6.78644194e+03  3.76717881e+04\n",
            "  1.30590148e+04  1.02039355e+04  2.97614976e+04  3.43441557e+04\n",
            "  1.54198884e+04  1.09494314e+04  1.25320367e+02  1.09375104e+04\n",
            "  9.34011817e+03  1.52056465e+04  1.47884656e+04  6.28890959e+03\n",
            "  1.37626040e+04  2.58976456e+04  2.80149379e+04  2.67782511e+04\n",
            "  3.55811577e+04  2.66491066e+04 -3.12851509e+01  9.09253638e+03\n",
            "  4.50473059e+03  1.25786322e+04  5.32989335e+03  4.87275698e+03\n",
            "  9.13715945e+02  1.91109624e+04  3.24343449e+03  1.19818164e+03\n",
            "  1.16423874e+04  1.26178146e+04  1.22820655e+04  3.25357019e+03\n",
            "  8.51198700e+03  1.44931289e+04  7.80942789e+03  6.43101340e+03\n",
            "  3.71526416e+04  1.21527214e+04  1.27062158e+04  2.97873576e+04\n",
            "  3.60565256e+04  1.14466927e+04  2.79803539e+04 -6.99286649e+02\n",
            "  8.43209968e+03  3.17365066e+04  8.06005690e+03 -1.29148861e+03\n",
            "  1.03051529e+03  4.30903167e+03  7.61130161e+03  1.25107589e+04\n",
            "  1.50292901e+04  9.12515527e+03  2.92911824e+04  1.58656448e+04\n",
            "  1.49918103e+04  1.12728832e+04  2.07038635e+03  9.76353685e+03\n",
            "  3.86233419e+03  6.15888871e+03  1.16747157e+04  5.53235114e+03\n",
            "  1.45096524e+04  1.38670197e+04  1.28837836e+04  6.77823671e+03\n",
            "  1.27711564e+04  1.13695643e+04  1.04527673e+04  4.01683531e+03\n",
            "  5.84086522e+03  4.08750544e+04  1.35484694e+04  3.96441142e+03\n",
            "  8.33313441e+03  4.66949492e+03  3.23674525e+04  1.11851626e+04\n",
            "  1.06037690e+04  6.86958419e+03  6.00292528e+03  6.26289228e+03\n",
            "  3.35136477e+04  3.48182862e+04  1.90824933e+03  7.75690871e+03\n",
            "  4.76272062e+03  1.59336671e+04  1.52427521e+03  1.13976109e+04\n",
            "  1.38535619e+04  1.17842409e+04  1.03736840e+04  1.31451480e+04\n",
            "  2.19610773e+03  2.76078992e+04  2.23133386e+03  1.47061955e+04\n",
            "  6.47850374e+03  1.12868700e+04  1.53036543e+04  3.91627187e+04\n",
            "  1.84702855e+03  1.20930904e+03  5.22836130e+03  7.24181939e+03\n",
            "  8.26891694e+03  3.97969875e+03  1.12133931e+04  9.13130681e+03\n",
            "  9.69135629e+03  1.06466950e+04  1.02794729e+04  9.62420615e+03\n",
            "  8.23594443e+03  7.58946320e+02  1.03926287e+04  7.48986759e+03\n",
            "  6.51570824e+03  1.13314849e+04  5.32798862e+03  3.31140147e+04\n",
            "  7.47995134e+03  5.75534349e+03  7.66270544e+03  3.87024159e+04\n",
            "  1.23158337e+04  2.83493214e+04  2.88899753e+03  3.30309951e+04\n",
            "  3.47892528e+03  3.20054367e+04  1.38496582e+04  3.25398240e+03\n",
            "  1.73131136e+03  9.02467518e+02  5.78196446e+03  3.70946861e+03\n",
            "  2.47803676e+04  1.58694617e+04  5.04581702e+03  1.35303264e+04\n",
            "  3.92341562e+04  5.14984336e+03  1.30199519e+04  1.11669932e+04\n",
            "  2.78805608e+04  2.57810661e+03  1.36278147e+04  6.00657062e+03\n",
            "  1.53824023e+04  5.48094300e+03  1.71060732e+04  3.98183773e+03\n",
            "  1.25527729e+04  3.52901525e+04  1.10627834e+04  1.01791282e+04\n",
            "  4.81611623e+03  1.68264584e+04  1.42471265e+04  5.77344824e+03\n",
            "  1.16546200e+04  1.30875162e+04  4.72852249e+03  6.84464114e+03\n",
            "  2.75559211e+04  3.22581716e+04 -5.46275866e+02  4.03985407e+04\n",
            "  9.63893240e+03  7.89742105e+03  1.07880133e+04  3.32652358e+04\n",
            "  3.55194717e+04  3.69503206e+04  4.41769629e+03  6.10652110e+03\n",
            "  1.04183532e+04  8.52103645e+03  4.00473864e+03  1.14966188e+04\n",
            "  1.01683198e+04  1.03320643e+04  9.70367094e+03  3.99820083e+04\n",
            "  8.77863036e+03  4.84678818e+03  2.55824431e+04  2.81175180e+04\n",
            "  8.60078270e+02  1.19004081e+04  6.34781816e+03  3.89956132e+03\n",
            "  1.05436062e+04  1.13561711e+04  1.51899791e+04  1.15256992e+04\n",
            "  3.28996360e+03  7.99050740e+03  1.13514132e+04  1.32676731e+04\n",
            "  1.72518687e+04  1.11191493e+04  5.59291553e+03  3.15444266e+04\n",
            "  1.00463706e+04  6.78688997e+03  2.62226694e+03  7.73544357e+03\n",
            "  7.06560048e+03  7.49790127e+03  6.05411717e+03  8.64060628e+03\n",
            "  6.71194664e+03  3.11623083e+04  5.65143467e+03  4.35796830e+03\n",
            "  1.80706676e+03  5.04491868e+03  8.26851689e+03  2.58197396e+03\n",
            "  2.70807189e+04  6.28094062e+03  6.47181116e+03  1.49808729e+04\n",
            "  1.03787814e+04  1.19458263e+04  1.38843169e+04  1.55817664e+04\n",
            "  1.48407500e+04  2.35627330e+04  5.07133165e+03  9.90009880e+03\n",
            "  1.04338226e+04  9.61819972e+03  1.35475242e+04  7.08461408e+03\n",
            "  4.13025010e+03  3.25354927e+04  1.46670174e+04  1.44566610e+04\n",
            "  1.20998328e+04  3.48665998e+03  1.06160917e+04  2.70681109e+03\n",
            "  3.25638341e+03  1.10509329e+04  1.63889378e+04  1.39274310e+04\n",
            "  3.51050782e+04  3.04530399e+03  3.38698336e+04  2.52799318e+03\n",
            "  9.00416964e+03  2.93593441e+04  5.69795968e+03  1.58890691e+03\n",
            "  6.94663797e+03  1.33800334e+04  4.73590010e+02  5.89477699e+03\n",
            "  9.31173846e+03  3.71151554e+04  2.53816390e+04  1.02656573e+04\n",
            "  1.17451416e+04  3.77746954e+04  1.49280712e+04  3.24370710e+03\n",
            "  5.58664718e+03  9.30047953e+03  1.67849918e+04  9.85919421e+03\n",
            "  7.23499520e+03  1.06827349e+04  3.01700226e+04  3.18513491e+04\n",
            "  7.04261849e+03  3.17540381e+04  3.40904187e+04  1.46228371e+04\n",
            "  8.98850232e+03  1.04861071e+04  5.86791250e+03  1.26036558e+04\n",
            "  1.50155233e+04  3.95385736e+03  1.34114344e+04  1.35246290e+04\n",
            "  1.05543335e+04  2.71097672e+04  2.61080402e+04  3.32157341e+04\n",
            "  1.26801985e+04  1.50746925e+04  1.69164388e+04  3.84317322e+03\n",
            "  9.28235646e+03  9.18812324e+03  3.16307882e+04  3.93374472e+04\n",
            "  1.17590252e+04  3.55712599e+04  2.68089878e+04  3.21821741e+04\n",
            "  9.48116539e+03  1.65283448e+04  2.87873432e+03  2.92412839e+03\n",
            "  2.66988369e+04  9.20636312e+03  9.55995594e+03  1.52456193e+03\n",
            "  3.46906219e+03  1.12317645e+04  1.36125153e+04  8.11183615e+03\n",
            "  2.78665313e+04  3.69069439e+04  2.95661820e+03  6.38806469e+02\n",
            "  1.43422244e+04  2.68976658e+04  1.09909458e+04  1.47430148e+04\n",
            "  5.32932168e+03 -9.45174076e+01  1.08580897e+04  2.66132987e+03\n",
            "  8.17806580e+03  1.21361394e+04  4.52412364e+03  5.70643744e+03\n",
            "  6.53943183e+03  2.42873936e+04 -1.53738197e+03  1.36880237e+03\n",
            "  1.50173791e+04  2.68672359e+04  3.01020895e+04  3.98947137e+03\n",
            "  4.24195615e+03  1.02858119e+04  1.05137842e+04  1.19488758e+04\n",
            "  1.58622986e+04  6.90806975e+03  1.73461366e+04  9.51420043e+03\n",
            "  1.23648792e+04  4.96308477e+03  7.03942378e+03  4.22931838e+03\n",
            "  5.46138829e+03  1.14228507e+04  3.35976162e+04  4.87436853e+03\n",
            "  1.06339621e+04  8.29848406e+03  3.39761635e+04  3.15349529e+04\n",
            "  4.84729708e+03  2.17898046e+03  1.14959766e+04  3.03094503e+04\n",
            "  1.07141484e+04  2.20573453e+03  2.48912176e+03  2.57810661e+03\n",
            "  2.58126756e+04  1.58987854e+03  2.95974723e+04  3.70644257e+04\n",
            "  3.65125145e+04  3.13080348e+04  8.80948228e+03  2.69643595e+04\n",
            "  1.24479956e+04  1.04524947e+04  1.38540708e+04  7.30321391e+03\n",
            "  1.45363318e+04  2.95399778e+04  6.34670124e+03  1.01310239e+04\n",
            "  1.29704179e+04  2.19340765e+03  1.17184239e+04  1.26822100e+04\n",
            "  3.94029130e+04  6.36645856e+02  5.44289586e+03  1.22444650e+04\n",
            "  2.37465070e+02  1.00527606e+04  2.55059510e+03  9.99666088e+03\n",
            "  5.31773959e+03  2.36716678e+03  1.19268816e+04  3.06664199e+04\n",
            "  9.23438149e+03  1.17882251e+04  1.27284624e+04  1.16481048e+04\n",
            "  9.56662004e+03  1.24570891e+04  7.10144393e+03  2.57700037e+03\n",
            "  1.31879614e+04  2.88695242e+04  1.19940903e+04  3.10266652e+04\n",
            "  2.41013339e+03  1.20685046e+04  9.65126700e+03  1.49156796e+04\n",
            "  1.40410697e+04  3.22216265e+04 -1.24173834e+03  1.57428655e+04\n",
            "  1.50222686e+04  1.16892961e+04  1.42838936e+04  2.95487724e+04\n",
            "  3.01119966e+04  1.19478379e+04  5.73227111e+03  3.70842713e+04\n",
            "  7.50768748e+03  7.53754936e+03  8.97316613e+03  1.15803772e+04\n",
            "  1.02171249e+04  4.28038925e+03  6.85277011e+03  3.98839088e+03\n",
            "  3.18728143e+04  1.26816911e+04  7.98861530e+03  7.88302592e+03\n",
            "  3.88422354e+03  3.84753746e+03  2.82693092e+04  1.65791797e+04]\n"
          ]
        }
      ]
    },
    {
      "cell_type": "code",
      "source": [
        "# evaluate the model\n",
        "print(\"Training Model:\", reg.score(x_train,y_train))\n",
        "print(\"Testing Model:\", reg.score(x_test,y_test))\n",
        "from sklearn.metrics import r2_score\n",
        "accuracy=r2_score(y_test,y_pred)*100\n",
        "print(\"The accuracy of the model is %.2f\" %accuracy)"
      ],
      "metadata": {
        "colab": {
          "base_uri": "https://localhost:8080/"
        },
        "id": "VE_-7DyOnTKc",
        "outputId": "2310d960-5b6f-48b6-ca91-1f8c694a719d"
      },
      "execution_count": 21,
      "outputs": [
        {
          "output_type": "stream",
          "name": "stdout",
          "text": [
            "Training Model: 0.7582174599023154\n",
            "Testing Model: 0.738035013329308\n",
            "The accuracy of the model is 73.80\n"
          ]
        }
      ]
    }
  ]
}